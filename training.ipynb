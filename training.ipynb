{
 "cells": [
  {
   "cell_type": "code",
   "execution_count": 3,
   "metadata": {},
   "outputs": [
    {
     "data": {
      "text/html": [
       "<div>\n",
       "<style scoped>\n",
       "    .dataframe tbody tr th:only-of-type {\n",
       "        vertical-align: middle;\n",
       "    }\n",
       "\n",
       "    .dataframe tbody tr th {\n",
       "        vertical-align: top;\n",
       "    }\n",
       "\n",
       "    .dataframe thead th {\n",
       "        text-align: right;\n",
       "    }\n",
       "</style>\n",
       "<table border=\"1\" class=\"dataframe\">\n",
       "  <thead>\n",
       "    <tr style=\"text-align: right;\">\n",
       "      <th></th>\n",
       "      <th>import_date</th>\n",
       "      <th>prev_quantity</th>\n",
       "      <th>curr_quantity</th>\n",
       "      <th>export_price</th>\n",
       "      <th>last_sale</th>\n",
       "      <th>label</th>\n",
       "    </tr>\n",
       "  </thead>\n",
       "  <tbody>\n",
       "    <tr>\n",
       "      <th>0</th>\n",
       "      <td>99</td>\n",
       "      <td>1399</td>\n",
       "      <td>906</td>\n",
       "      <td>212000000</td>\n",
       "      <td>101</td>\n",
       "      <td>-1</td>\n",
       "    </tr>\n",
       "    <tr>\n",
       "      <th>1</th>\n",
       "      <td>99</td>\n",
       "      <td>328</td>\n",
       "      <td>301</td>\n",
       "      <td>369000000</td>\n",
       "      <td>10</td>\n",
       "      <td>0</td>\n",
       "    </tr>\n",
       "    <tr>\n",
       "      <th>2</th>\n",
       "      <td>272</td>\n",
       "      <td>2213</td>\n",
       "      <td>1418</td>\n",
       "      <td>403000000</td>\n",
       "      <td>111</td>\n",
       "      <td>-1</td>\n",
       "    </tr>\n",
       "    <tr>\n",
       "      <th>3</th>\n",
       "      <td>33</td>\n",
       "      <td>453</td>\n",
       "      <td>66</td>\n",
       "      <td>454000000</td>\n",
       "      <td>4</td>\n",
       "      <td>1</td>\n",
       "    </tr>\n",
       "    <tr>\n",
       "      <th>4</th>\n",
       "      <td>301</td>\n",
       "      <td>2231</td>\n",
       "      <td>797</td>\n",
       "      <td>362000000</td>\n",
       "      <td>219</td>\n",
       "      <td>-1</td>\n",
       "    </tr>\n",
       "  </tbody>\n",
       "</table>\n",
       "</div>"
      ],
      "text/plain": [
       "   import_date  prev_quantity  curr_quantity  export_price  last_sale  label\n",
       "0           99           1399            906     212000000        101     -1\n",
       "1           99            328            301     369000000         10      0\n",
       "2          272           2213           1418     403000000        111     -1\n",
       "3           33            453             66     454000000          4      1\n",
       "4          301           2231            797     362000000        219     -1"
      ]
     },
     "execution_count": 3,
     "metadata": {},
     "output_type": "execute_result"
    }
   ],
   "source": [
    "import pandas as pd\n",
    "df = pd.read_excel('trainingdata.xlsx')\n",
    "df.head()\n"
   ]
  },
  {
   "cell_type": "code",
   "execution_count": 4,
   "metadata": {},
   "outputs": [
    {
     "data": {
      "text/plain": [
       "0    0.273973\n",
       "1    0.271233\n",
       "2    0.745205\n",
       "3    0.090411\n",
       "4    0.824658\n",
       "Name: import_date, dtype: float64"
      ]
     },
     "execution_count": 4,
     "metadata": {},
     "output_type": "execute_result"
    }
   ],
   "source": [
    "df['import_date'] = df['import_date'] / max(df['import_date'])\n",
    "df['import_date'].head()"
   ]
  },
  {
   "cell_type": "code",
   "execution_count": 5,
   "metadata": {},
   "outputs": [
    {
     "data": {
      "text/plain": [
       "0    0.560946\n",
       "1    0.131516\n",
       "2    0.887330\n",
       "3    0.181636\n",
       "4    0.894547\n",
       "Name: prev_quantity, dtype: float64"
      ]
     },
     "execution_count": 5,
     "metadata": {},
     "output_type": "execute_result"
    }
   ],
   "source": [
    "df['prev_quantity'] = df['prev_quantity'] / max(df['prev_quantity'])\n",
    "df['prev_quantity'].head()"
   ]
  },
  {
   "cell_type": "code",
   "execution_count": 6,
   "metadata": {},
   "outputs": [
    {
     "data": {
      "text/plain": [
       "0    0.387179\n",
       "1    0.128632\n",
       "2    0.605983\n",
       "3    0.028205\n",
       "4    0.340598\n",
       "Name: curr_quantity, dtype: float64"
      ]
     },
     "execution_count": 6,
     "metadata": {},
     "output_type": "execute_result"
    }
   ],
   "source": [
    "df['curr_quantity'] = df['curr_quantity'] / max(df['curr_quantity'])\n",
    "df['curr_quantity'].head()"
   ]
  },
  {
   "cell_type": "code",
   "execution_count": 7,
   "metadata": {},
   "outputs": [
    {
     "data": {
      "text/plain": [
       "0    0.394\n",
       "1    0.708\n",
       "2    0.776\n",
       "3    0.878\n",
       "4    0.694\n",
       "Name: export_price, dtype: float64"
      ]
     },
     "execution_count": 7,
     "metadata": {},
     "output_type": "execute_result"
    }
   ],
   "source": [
    "df['export_price'] = (df['export_price'] - min(df['export_price'])) / max(df['export_price'])\n",
    "df['export_price'].head()"
   ]
  },
  {
   "cell_type": "code",
   "execution_count": 9,
   "metadata": {},
   "outputs": [
    {
     "data": {
      "text/plain": [
       "0    0.286932\n",
       "1    0.028409\n",
       "2    0.315341\n",
       "3    0.011364\n",
       "4    0.622159\n",
       "Name: last_sale, dtype: float64"
      ]
     },
     "execution_count": 9,
     "metadata": {},
     "output_type": "execute_result"
    }
   ],
   "source": [
    "df['last_sale'] = df['last_sale'] / max(df['last_sale'])\n",
    "df['last_sale'].head()"
   ]
  },
  {
   "cell_type": "code",
   "execution_count": 21,
   "metadata": {},
   "outputs": [
    {
     "data": {
      "text/plain": [
       "(   import_date  prev_quantity  curr_quantity  export_price  last_sale\n",
       " 0     0.273973       0.560946       0.387179         0.394   0.286932\n",
       " 1     0.271233       0.131516       0.128632         0.708   0.028409\n",
       " 2     0.745205       0.887330       0.605983         0.776   0.315341\n",
       " 3     0.090411       0.181636       0.028205         0.878   0.011364\n",
       " 4     0.824658       0.894547       0.340598         0.694   0.622159,\n",
       " 0   -1\n",
       " 1    0\n",
       " 2   -1\n",
       " 3    1\n",
       " 4   -1\n",
       " Name: label, dtype: int64)"
      ]
     },
     "execution_count": 21,
     "metadata": {},
     "output_type": "execute_result"
    }
   ],
   "source": [
    "X = df.drop(['label'], axis=1)\n",
    "y = df['label']\n",
    "X.head(), y.head()"
   ]
  },
  {
   "cell_type": "code",
   "execution_count": 22,
   "metadata": {},
   "outputs": [
    {
     "data": {
      "text/plain": [
       "(      import_date  prev_quantity  curr_quantity  export_price  last_sale\n",
       " 190      0.298630       0.919808       0.838889         0.760   0.289773\n",
       " 1933     0.150685       0.151163       0.042308         0.410   0.014205\n",
       " 1802     0.745205       0.690457       0.434615         0.212   0.312500\n",
       " 1362     0.167123       0.335204       0.142735         0.356   0.107955\n",
       " 1278     0.104110       0.224940       0.035470         0.410   0.008523,\n",
       "       import_date  prev_quantity  curr_quantity  export_price  last_sale\n",
       " 2426     0.282192       0.315156       0.141453         0.068   0.062500\n",
       " 2229     0.361644       0.646752       0.311538         0.356   0.321023\n",
       " 183      0.104110       0.197674       0.023077         0.028   0.014205\n",
       " 2691     0.128767       0.167201       0.041453         0.128   0.000000\n",
       " 906      0.260274       0.288693       0.023077         0.024   0.005682,\n",
       " 190    -1\n",
       " 1933    1\n",
       " 1802   -1\n",
       " 1362    0\n",
       " 1278    1\n",
       " Name: label, dtype: int64,\n",
       " 2426    0\n",
       " 2229   -1\n",
       " 183     1\n",
       " 2691    1\n",
       " 906     1\n",
       " Name: label, dtype: int64)"
      ]
     },
     "execution_count": 22,
     "metadata": {},
     "output_type": "execute_result"
    }
   ],
   "source": [
    "from sklearn.model_selection import train_test_split\n",
    "X_train, X_test, y_train, y_test = train_test_split(X,y ,random_state=104, test_size=0.25)\n",
    "X_train.head(), X_test.head(), y_train.head(), y_test.head()"
   ]
  },
  {
   "cell_type": "code",
   "execution_count": 30,
   "metadata": {},
   "outputs": [
    {
     "data": {
      "text/plain": [
       "RandomForestClassifier()"
      ]
     },
     "execution_count": 30,
     "metadata": {},
     "output_type": "execute_result"
    }
   ],
   "source": [
    "from sklearn.ensemble import RandomForestClassifier\n",
    "model = RandomForestClassifier()\n",
    "model.fit(X_train, y_train)"
   ]
  },
  {
   "cell_type": "code",
   "execution_count": 31,
   "metadata": {},
   "outputs": [
    {
     "data": {
      "text/plain": [
       "1.0"
      ]
     },
     "execution_count": 31,
     "metadata": {},
     "output_type": "execute_result"
    }
   ],
   "source": [
    "from sklearn.metrics import accuracy_score\n",
    "predictions = model.predict(X_test)\n",
    "accuracy_score(y_test, predictions)"
   ]
  },
  {
   "cell_type": "code",
   "execution_count": 32,
   "metadata": {},
   "outputs": [
    {
     "data": {
      "text/plain": [
       "['label.joblib']"
      ]
     },
     "execution_count": 32,
     "metadata": {},
     "output_type": "execute_result"
    }
   ],
   "source": [
    "import joblib\n",
    "joblib.dump(model, 'label.joblib')"
   ]
  },
  {
   "cell_type": "code",
   "execution_count": 33,
   "metadata": {},
   "outputs": [
    {
     "data": {
      "text/html": [
       "<div>\n",
       "<style scoped>\n",
       "    .dataframe tbody tr th:only-of-type {\n",
       "        vertical-align: middle;\n",
       "    }\n",
       "\n",
       "    .dataframe tbody tr th {\n",
       "        vertical-align: top;\n",
       "    }\n",
       "\n",
       "    .dataframe thead th {\n",
       "        text-align: right;\n",
       "    }\n",
       "</style>\n",
       "<table border=\"1\" class=\"dataframe\">\n",
       "  <thead>\n",
       "    <tr style=\"text-align: right;\">\n",
       "      <th></th>\n",
       "      <th>import_date</th>\n",
       "      <th>prev_quantity</th>\n",
       "      <th>curr_quantity</th>\n",
       "      <th>export_price</th>\n",
       "      <th>last_sale</th>\n",
       "      <th>sale</th>\n",
       "    </tr>\n",
       "  </thead>\n",
       "  <tbody>\n",
       "    <tr>\n",
       "      <th>0</th>\n",
       "      <td>334</td>\n",
       "      <td>1490</td>\n",
       "      <td>954</td>\n",
       "      <td>118000000</td>\n",
       "      <td>108</td>\n",
       "      <td>8</td>\n",
       "    </tr>\n",
       "    <tr>\n",
       "      <th>1</th>\n",
       "      <td>132</td>\n",
       "      <td>636</td>\n",
       "      <td>618</td>\n",
       "      <td>246000000</td>\n",
       "      <td>118</td>\n",
       "      <td>15</td>\n",
       "    </tr>\n",
       "    <tr>\n",
       "      <th>2</th>\n",
       "      <td>114</td>\n",
       "      <td>2230</td>\n",
       "      <td>1936</td>\n",
       "      <td>221000000</td>\n",
       "      <td>106</td>\n",
       "      <td>14</td>\n",
       "    </tr>\n",
       "    <tr>\n",
       "      <th>3</th>\n",
       "      <td>276</td>\n",
       "      <td>2372</td>\n",
       "      <td>791</td>\n",
       "      <td>270000000</td>\n",
       "      <td>230</td>\n",
       "      <td>17</td>\n",
       "    </tr>\n",
       "    <tr>\n",
       "      <th>4</th>\n",
       "      <td>179</td>\n",
       "      <td>937</td>\n",
       "      <td>611</td>\n",
       "      <td>268000000</td>\n",
       "      <td>118</td>\n",
       "      <td>17</td>\n",
       "    </tr>\n",
       "  </tbody>\n",
       "</table>\n",
       "</div>"
      ],
      "text/plain": [
       "   import_date  prev_quantity  curr_quantity  export_price  last_sale  sale\n",
       "0          334           1490            954     118000000        108     8\n",
       "1          132            636            618     246000000        118    15\n",
       "2          114           2230           1936     221000000        106    14\n",
       "3          276           2372            791     270000000        230    17\n",
       "4          179            937            611     268000000        118    17"
      ]
     },
     "execution_count": 33,
     "metadata": {},
     "output_type": "execute_result"
    }
   ],
   "source": [
    "df = pd.read_excel('sale.xlsx')\n",
    "df.head()"
   ]
  },
  {
   "cell_type": "code",
   "execution_count": 34,
   "metadata": {},
   "outputs": [
    {
     "data": {
      "text/plain": [
       "0    0.915068\n",
       "1    0.361644\n",
       "2    0.312329\n",
       "3    0.756164\n",
       "4    0.490411\n",
       "Name: import_date, dtype: float64"
      ]
     },
     "execution_count": 34,
     "metadata": {},
     "output_type": "execute_result"
    }
   ],
   "source": [
    "df['import_date'] = df['import_date'] / max(df['import_date'])\n",
    "df['import_date'].head()"
   ]
  },
  {
   "cell_type": "code",
   "execution_count": 35,
   "metadata": {},
   "outputs": [
    {
     "data": {
      "text/plain": [
       "0    0.597434\n",
       "1    0.255012\n",
       "2    0.894146\n",
       "3    0.951083\n",
       "4    0.375702\n",
       "Name: prev_quantity, dtype: float64"
      ]
     },
     "execution_count": 35,
     "metadata": {},
     "output_type": "execute_result"
    }
   ],
   "source": [
    "df['prev_quantity'] = df['prev_quantity'] / max(df['prev_quantity'])\n",
    "df['prev_quantity'].head()"
   ]
  },
  {
   "cell_type": "code",
   "execution_count": 36,
   "metadata": {},
   "outputs": [
    {
     "data": {
      "text/plain": [
       "0    0.407692\n",
       "1    0.264103\n",
       "2    0.827350\n",
       "3    0.338034\n",
       "4    0.261111\n",
       "Name: curr_quantity, dtype: float64"
      ]
     },
     "execution_count": 36,
     "metadata": {},
     "output_type": "execute_result"
    }
   ],
   "source": [
    "df['curr_quantity'] = df['curr_quantity'] / max(df['curr_quantity'])\n",
    "df['curr_quantity'].head()"
   ]
  },
  {
   "cell_type": "code",
   "execution_count": 37,
   "metadata": {},
   "outputs": [
    {
     "data": {
      "text/plain": [
       "0    0.136\n",
       "1    0.392\n",
       "2    0.342\n",
       "3    0.440\n",
       "4    0.436\n",
       "Name: export_price, dtype: float64"
      ]
     },
     "execution_count": 37,
     "metadata": {},
     "output_type": "execute_result"
    }
   ],
   "source": [
    "df['export_price'] = (df['export_price'] - min(df['export_price'])) / max(df['export_price'])\n",
    "df['export_price'].head()"
   ]
  },
  {
   "cell_type": "code",
   "execution_count": 38,
   "metadata": {},
   "outputs": [
    {
     "data": {
      "text/plain": [
       "0    0.306818\n",
       "1    0.335227\n",
       "2    0.301136\n",
       "3    0.653409\n",
       "4    0.335227\n",
       "Name: last_sale, dtype: float64"
      ]
     },
     "execution_count": 38,
     "metadata": {},
     "output_type": "execute_result"
    }
   ],
   "source": [
    "df['last_sale'] = df['last_sale'] / max(df['last_sale'])\n",
    "df['last_sale'].head()"
   ]
  },
  {
   "cell_type": "code",
   "execution_count": 39,
   "metadata": {},
   "outputs": [
    {
     "data": {
      "text/plain": [
       "(   import_date  prev_quantity  curr_quantity  export_price  last_sale\n",
       " 0     0.915068       0.597434       0.407692         0.136   0.306818\n",
       " 1     0.361644       0.255012       0.264103         0.392   0.335227\n",
       " 2     0.312329       0.894146       0.827350         0.342   0.301136\n",
       " 3     0.756164       0.951083       0.338034         0.440   0.653409\n",
       " 4     0.490411       0.375702       0.261111         0.436   0.335227,\n",
       " 0     8\n",
       " 1    15\n",
       " 2    14\n",
       " 3    17\n",
       " 4    17\n",
       " Name: sale, dtype: int64)"
      ]
     },
     "execution_count": 39,
     "metadata": {},
     "output_type": "execute_result"
    }
   ],
   "source": [
    "X = df.drop(['sale'], axis=1)\n",
    "y = df['sale']\n",
    "X.head(), y.head()"
   ]
  },
  {
   "cell_type": "code",
   "execution_count": 40,
   "metadata": {},
   "outputs": [
    {
     "data": {
      "text/plain": [
       "(     import_date  prev_quantity  curr_quantity  export_price  last_sale\n",
       " 269     0.857534       0.451083       0.333333         0.488   0.588068\n",
       " 776     0.802740       0.951083       0.836325         0.448   0.306818\n",
       " 509     0.304110       0.242582       0.213675         0.606   0.289773\n",
       " 784     0.380822       0.401363       0.358120         0.304   0.392045\n",
       " 477     0.432877       0.751002       0.447863         0.794   0.332386,\n",
       "      import_date  prev_quantity  curr_quantity  export_price  last_sale\n",
       " 808     0.293151       0.524459       0.396581         0.074   0.306818\n",
       " 83      0.756164       0.988372       0.898291         0.168   0.431818\n",
       " 643     0.375342       0.650361       0.324359         0.868   0.392045\n",
       " 895     0.747945       0.476744       0.397863         0.890   0.667614\n",
       " 536     0.635616       0.740978       0.514103         0.196   0.463068,\n",
       " 269    18\n",
       " 776    17\n",
       " 509    21\n",
       " 784    13\n",
       " 477    27\n",
       " Name: sale, dtype: int64,\n",
       " 808     7\n",
       " 83      9\n",
       " 643    29\n",
       " 895    29\n",
       " 536    10\n",
       " Name: sale, dtype: int64)"
      ]
     },
     "execution_count": 40,
     "metadata": {},
     "output_type": "execute_result"
    }
   ],
   "source": [
    "from sklearn.model_selection import train_test_split\n",
    "X_train, X_test, y_train, y_test = train_test_split(X,y ,random_state=104, test_size=0.25)\n",
    "X_train.head(), X_test.head(), y_train.head(), y_test.head()"
   ]
  },
  {
   "cell_type": "code",
   "execution_count": 79,
   "metadata": {},
   "outputs": [
    {
     "data": {
      "text/plain": [
       "LinearRegression()"
      ]
     },
     "execution_count": 79,
     "metadata": {},
     "output_type": "execute_result"
    }
   ],
   "source": [
    "from sklearn.linear_model import LinearRegression\n",
    "model = LinearRegression()\n",
    "model.fit(X_train, y_train)"
   ]
  },
  {
   "cell_type": "code",
   "execution_count": 80,
   "metadata": {},
   "outputs": [],
   "source": [
    "predictions = model.predict(X_test)"
   ]
  },
  {
   "cell_type": "code",
   "execution_count": 81,
   "metadata": {},
   "outputs": [
    {
     "data": {
      "text/plain": [
       "array([ 6.56776096,  9.22994802, 28.58129224, 29.20167343,  9.97482723,\n",
       "       21.52354457, 25.55669919, 14.09545146, 23.80775128, 20.58378606,\n",
       "       18.06445922, 24.70290151, 16.61944074,  6.66454635, 25.20423105,\n",
       "       22.19152958, 28.48218817, 15.82051897, 12.43973052, 10.01531957,\n",
       "        8.41822035, 11.58522133, 24.69859036,  7.66499703, 18.27335114,\n",
       "       24.79216575, 23.40691146, 26.58550968,  8.0806934 ,  6.81848663,\n",
       "       13.86608035,  5.1173214 , 10.90053638, 14.2805065 , 27.96291247,\n",
       "       29.42929972, 19.60727089, 16.08599938, 24.87113971, 28.61770359,\n",
       "       28.75862178, 18.59872807, 19.78287007, 26.37148626, 17.88472055,\n",
       "        5.53517669, 11.64913454, 20.59091926, 25.51333333, 21.69947381,\n",
       "        7.97756835, 15.94438876, 29.04622348, 16.16894495, 25.516251  ,\n",
       "       28.8392331 , 22.38979117, 19.80139988, 14.10351117, 12.95641516,\n",
       "       28.98330081, 25.72727487, 10.25454192, 11.87010317,  8.71681516,\n",
       "       10.23117578, 17.80047853,  7.11425736, 19.08394999,  5.11548663,\n",
       "       23.45074967, 13.85296855, 12.42118617, 28.37910157, 26.84107697,\n",
       "       11.74165378, 22.28759872, 18.6445169 , 19.79237269, 10.28371756,\n",
       "       25.2840556 , 24.82761179, 28.2061687 , 23.80044731, 10.73066869,\n",
       "       12.02892389, 20.47827231, 29.2280216 , 12.92462872, 17.94987897,\n",
       "       25.57452804, 13.71457284, 23.24703905,  8.3126209 , 18.81240149,\n",
       "       16.63627203, 14.29203098, 13.66762306, 18.10182597, 26.6113716 ,\n",
       "       18.62600398, 14.44067462, 16.60994947, 14.70270789, 27.72454879,\n",
       "       13.68579552,  7.3841677 , 22.60594935, 14.76277693,  7.24916139,\n",
       "       20.41537249, 18.24440519, 25.22213309, 24.79131444,  7.21280033,\n",
       "       28.53830068,  4.66025698, 29.38740801, 15.08472493, 23.97368052,\n",
       "       21.80660012, 17.55855999, 22.89292123, 29.08691938,  5.2248341 ,\n",
       "       20.42097122, 12.70455782, 18.81608529, 23.68818474, 15.81996125,\n",
       "        8.89185398, 15.17916431, 18.07401743, 18.48573057, 19.22177312,\n",
       "       22.50662057,  4.60175205, 22.01681432, 17.87277112, 16.88625822,\n",
       "       17.5494068 , 15.35517927,  4.83084388, 17.95139458, 25.82301272,\n",
       "        6.44830275, 26.16051622,  7.32447336, 14.93268835, 19.37738094,\n",
       "       19.97699938,  8.47864621,  6.85052826, 21.3802461 , 14.8459674 ,\n",
       "        9.45551437, 14.04300749, 10.3813933 , 14.18589091,  8.14182866,\n",
       "        8.76121424, 17.05886657, 13.5563467 , 28.53151333, 22.87243781,\n",
       "       29.08329392,  9.44989275, 13.10900145, 13.90150217, 26.84127161,\n",
       "       27.05210419, 18.24988382, 27.95626963,  5.45846872, 16.20204882,\n",
       "       14.27089372, 27.7034827 , 10.03176145, 10.81724901, 20.17012723,\n",
       "        6.90302255,  8.40405906, 14.57690145,  8.31732016, 19.34030631,\n",
       "       25.24395038, 14.6219316 , 24.69495825, 25.05326839,  7.90201269,\n",
       "       14.84740344, 27.11043343, 10.94072269, 13.15057551, 17.85603641,\n",
       "       23.25152903, 10.13764527, 25.77365036, 25.9639151 , 14.09047456,\n",
       "       29.12211414, 27.87558479, 20.1682812 , 24.19623734, 20.72955238,\n",
       "       16.77220761, 11.75729114, 17.13781407, 14.16081441, 13.81617038,\n",
       "       15.21891204,  5.8272354 , 13.94811398,  6.60617799, 13.13051914,\n",
       "        6.09971157, 28.16259307, 20.83160318, 18.19253974, 26.87109286,\n",
       "       17.45033827, 24.29327626,  6.27315295,  9.37231471,  8.44921909,\n",
       "        6.98024855, 29.2137093 , 12.60159175, 24.2261783 , 24.322704  ,\n",
       "       22.94655847, 26.99844993, 25.34845545, 27.45350451,  8.81128854,\n",
       "       14.94751373,  9.99615955, 24.15665169, 19.3036122 , 12.00305682,\n",
       "       15.48119172, 11.03951456,  5.14948003, 16.03692246, 20.90910415,\n",
       "       12.31933834, 10.80568661,  8.77637358, 25.96800252, 11.2888158 ])"
      ]
     },
     "execution_count": 81,
     "metadata": {},
     "output_type": "execute_result"
    }
   ],
   "source": [
    "predictions"
   ]
  },
  {
   "cell_type": "code",
   "execution_count": 85,
   "metadata": {},
   "outputs": [
    {
     "data": {
      "text/plain": [
       "0.9985425375817377"
      ]
     },
     "execution_count": 85,
     "metadata": {},
     "output_type": "execute_result"
    }
   ],
   "source": [
    "from sklearn.metrics import r2_score\n",
    "r2 = r2_score(y_test, predictions)\n",
    "r2"
   ]
  },
  {
   "cell_type": "code",
   "execution_count": 86,
   "metadata": {},
   "outputs": [
    {
     "data": {
      "text/plain": [
       "0.9985352062818471"
      ]
     },
     "execution_count": 86,
     "metadata": {},
     "output_type": "execute_result"
    }
   ],
   "source": [
    "n = X.shape[0]\n",
    "p = X.shape[1]\n",
    "\n",
    "#Tính Adj r2\n",
    "adj_r2 = 1 - (1-r2)*(n-1)/(n-p-1)\n",
    "adj_r2"
   ]
  },
  {
   "cell_type": "code",
   "execution_count": 87,
   "metadata": {},
   "outputs": [
    {
     "data": {
      "text/plain": [
       "['sale.joblib']"
      ]
     },
     "execution_count": 87,
     "metadata": {},
     "output_type": "execute_result"
    }
   ],
   "source": [
    "import joblib\n",
    "joblib.dump(model, 'sale.joblib')"
   ]
  },
  {
   "cell_type": "code",
   "execution_count": 63,
   "metadata": {},
   "outputs": [
    {
     "name": "stderr",
     "output_type": "stream",
     "text": [
      "c:\\ProgramData\\Anaconda3\\lib\\site-packages\\sklearn\\base.py:450: UserWarning: X does not have valid feature names, but RandomForestClassifier was fitted with feature names\n",
      "  warnings.warn(\n",
      "c:\\ProgramData\\Anaconda3\\lib\\site-packages\\sklearn\\base.py:450: UserWarning: X does not have valid feature names, but RandomForestClassifier was fitted with feature names\n",
      "  warnings.warn(\n"
     ]
    },
    {
     "data": {
      "text/plain": [
       "(0.58, 1)"
      ]
     },
     "execution_count": 63,
     "metadata": {},
     "output_type": "execute_result"
    }
   ],
   "source": [
    "import pandas as pd\n",
    "import joblib\n",
    "\n",
    "model_test = joblib.load('label.joblib')\n",
    "df_test = pd.DataFrame([[0.5,0.27,0.015,0.1,0.05]])\n",
    "max(model_test.predict_proba(df_test)[0]), model_test.predict(df_test)[0]"
   ]
  },
  {
   "cell_type": "code",
   "execution_count": 2,
   "metadata": {},
   "outputs": [
    {
     "data": {
      "text/html": [
       "<div>\n",
       "<style scoped>\n",
       "    .dataframe tbody tr th:only-of-type {\n",
       "        vertical-align: middle;\n",
       "    }\n",
       "\n",
       "    .dataframe tbody tr th {\n",
       "        vertical-align: top;\n",
       "    }\n",
       "\n",
       "    .dataframe thead th {\n",
       "        text-align: right;\n",
       "    }\n",
       "</style>\n",
       "<table border=\"1\" class=\"dataframe\">\n",
       "  <thead>\n",
       "    <tr style=\"text-align: right;\">\n",
       "      <th></th>\n",
       "      <th>import_date</th>\n",
       "      <th>prev_quantity</th>\n",
       "      <th>curr_quantity</th>\n",
       "      <th>export_price</th>\n",
       "      <th>last_sale</th>\n",
       "      <th>label</th>\n",
       "    </tr>\n",
       "  </thead>\n",
       "  <tbody>\n",
       "    <tr>\n",
       "      <th>0</th>\n",
       "      <td>100</td>\n",
       "      <td>1399</td>\n",
       "      <td>906</td>\n",
       "      <td>212000000</td>\n",
       "      <td>101</td>\n",
       "      <td>-1</td>\n",
       "    </tr>\n",
       "    <tr>\n",
       "      <th>1</th>\n",
       "      <td>99</td>\n",
       "      <td>328</td>\n",
       "      <td>301</td>\n",
       "      <td>369000000</td>\n",
       "      <td>10</td>\n",
       "      <td>0</td>\n",
       "    </tr>\n",
       "    <tr>\n",
       "      <th>2</th>\n",
       "      <td>272</td>\n",
       "      <td>2213</td>\n",
       "      <td>1418</td>\n",
       "      <td>403000000</td>\n",
       "      <td>111</td>\n",
       "      <td>-1</td>\n",
       "    </tr>\n",
       "    <tr>\n",
       "      <th>3</th>\n",
       "      <td>33</td>\n",
       "      <td>453</td>\n",
       "      <td>66</td>\n",
       "      <td>454000000</td>\n",
       "      <td>4</td>\n",
       "      <td>1</td>\n",
       "    </tr>\n",
       "    <tr>\n",
       "      <th>4</th>\n",
       "      <td>301</td>\n",
       "      <td>2231</td>\n",
       "      <td>797</td>\n",
       "      <td>362000000</td>\n",
       "      <td>219</td>\n",
       "      <td>-1</td>\n",
       "    </tr>\n",
       "  </tbody>\n",
       "</table>\n",
       "</div>"
      ],
      "text/plain": [
       "   import_date  prev_quantity  curr_quantity  export_price  last_sale  label\n",
       "0          100           1399            906     212000000        101     -1\n",
       "1           99            328            301     369000000         10      0\n",
       "2          272           2213           1418     403000000        111     -1\n",
       "3           33            453             66     454000000          4      1\n",
       "4          301           2231            797     362000000        219     -1"
      ]
     },
     "execution_count": 2,
     "metadata": {},
     "output_type": "execute_result"
    }
   ],
   "source": [
    "import pandas as pd\n",
    "df1 = pd.read_excel('trainingdata.xlsx')\n",
    "df1.head()"
   ]
  },
  {
   "cell_type": "code",
   "execution_count": 3,
   "metadata": {},
   "outputs": [
    {
     "data": {
      "text/plain": [
       "(365, 2494, 2340, 500000000, 352)"
      ]
     },
     "execution_count": 3,
     "metadata": {},
     "output_type": "execute_result"
    }
   ],
   "source": [
    "max(df1['import_date']), max(df1['prev_quantity']), max(df1['curr_quantity']), max(df1['export_price']), max(df1['last_sale'])"
   ]
  },
  {
   "cell_type": "code",
   "execution_count": null,
   "metadata": {
    "collapsed": false,
    "pycharm": {
     "name": "#%%\n"
    }
   },
   "outputs": [],
   "source": []
  }
 ],
 "metadata": {
  "kernelspec": {
   "display_name": "base",
   "language": "python",
   "name": "python3"
  },
  "language_info": {
   "codemirror_mode": {
    "name": "ipython",
    "version": 3
   },
   "file_extension": ".py",
   "mimetype": "text/x-python",
   "name": "python",
   "nbconvert_exporter": "python",
   "pygments_lexer": "ipython3",
   "version": "3.9.12"
  },
  "orig_nbformat": 4
 },
 "nbformat": 4,
 "nbformat_minor": 2
}
